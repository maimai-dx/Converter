{
 "cells": [
  {
   "cell_type": "code",
   "id": "initial_id",
   "metadata": {
    "collapsed": true,
    "ExecuteTime": {
     "end_time": "2024-05-31T08:21:25.180976Z",
     "start_time": "2024-05-31T08:21:24.799200Z"
    }
   },
   "source": "import UnityPy",
   "outputs": [],
   "execution_count": 1
  },
  {
   "metadata": {
    "ExecuteTime": {
     "end_time": "2024-05-26T13:03:37.121869Z",
     "start_time": "2024-05-26T13:03:37.118814Z"
    }
   },
   "cell_type": "code",
   "source": "",
   "id": "8bebbd3bb2312e44",
   "outputs": [],
   "execution_count": 14
  },
  {
   "metadata": {},
   "cell_type": "markdown",
   "source": [
    "가설 : 아래 3개 항목은 항상 개수가 같아야 하며, 동시에 추가되어야 한다.\n",
    "- AssetBundleImages.AssetBundleNames\n",
    "- AssetBundleImages.AssetBundleInfos\n",
    "- AssetBundleImages.manifest.AssetBundleManifest.AssetBundleInfos\n",
    "\n"
   ],
   "id": "becb607a64f45b8d"
  },
  {
   "metadata": {
    "ExecuteTime": {
     "end_time": "2024-05-31T08:21:28.794228Z",
     "start_time": "2024-05-31T08:21:28.788056Z"
    }
   },
   "cell_type": "code",
   "source": [
    "def hash_map_to_bytes(input):\n",
    "    # Extract the byte values from the dictionary, sorted by the key\n",
    "    byte_values = [input[f'bytes[{i}]'] for i in range(len(input))]\n",
    "    \n",
    "    # Combine the bytes into a single integer\n",
    "    result = 0\n",
    "    for i, byte in enumerate(byte_values):\n",
    "        result |= byte << (8 * i)\n",
    "    \n",
    "    return result\n",
    "\n",
    "# Example input\n",
    "input_data = {\n",
    "    'bytes[0]': 9, 'bytes[1]': 85, 'bytes[2]': 135, 'bytes[3]': 98,\n",
    "    'bytes[4]': 250, 'bytes[5]': 26, 'bytes[6]': 225, 'bytes[7]': 22,\n",
    "    'bytes[8]': 223, 'bytes[9]': 171, 'bytes[10]': 221, 'bytes[11]': 36,\n",
    "    'bytes[12]': 194, 'bytes[13]': 95, 'bytes[14]': 184, 'bytes[15]': 113\n",
    "}\n",
    "\n",
    "# Get the output number\n",
    "output_number = hash_map_to_bytes(input_data)\n",
    "print(output_number)\n",
    "\n",
    "\n",
    "def hash_map_to_hex_string(input):\n",
    "    # Extract the byte values from the dictionary, sorted by the key\n",
    "    byte_values = [input[f'bytes[{i}]'] for i in range(len(input))]\n",
    "    \n",
    "    # Combine the bytes into a single integer\n",
    "    result = 0\n",
    "    for i, byte in enumerate(byte_values):\n",
    "        result |= byte << (8 * i)\n",
    "    \n",
    "    # Convert the integer to a hexadecimal string\n",
    "    hex_string = hex(result)[2:]  # Remove the '0x' prefix\n",
    "    \n",
    "    # Ensure the hex string is even-length\n",
    "    if len(hex_string) % 2 != 0:\n",
    "        hex_string = '0' + hex_string\n",
    "    \n",
    "    return hex_string\n",
    "\n",
    "# Example input\n",
    "input_data = {\n",
    "    'bytes[0]': 9, 'bytes[1]': 85, 'bytes[2]': 135, 'bytes[3]': 98,\n",
    "    'bytes[4]': 250, 'bytes[5]': 26, 'bytes[6]': 225, 'bytes[7]': 22,\n",
    "    'bytes[8]': 223, 'bytes[9]': 171, 'bytes[10]': 221, 'bytes[11]': 36,\n",
    "    'bytes[12]': 194, 'bytes[13]': 95, 'bytes[14]': 184, 'bytes[15]': 113\n",
    "}\n",
    "\n",
    "# Get the output hex string\n",
    "output_hex_string = hash_map_to_hex_string(input_data)\n",
    "print(output_hex_string)\n"
   ],
   "id": "21775535ca81b243",
   "outputs": [
    {
     "name": "stdout",
     "output_type": "stream",
     "text": [
      "151160088356251221197395960542209201417\n",
      "71b85fc224ddabdf16e11afa62875509\n"
     ]
    }
   ],
   "execution_count": 2
  },
  {
   "metadata": {
    "ExecuteTime": {
     "end_time": "2024-05-31T08:29:52.316159Z",
     "start_time": "2024-05-31T08:29:52.033974Z"
    }
   },
   "cell_type": "code",
   "source": [
    "\n",
    "abi_env = UnityPy.load(f'../data/AssetBundleImages')\n",
    "for obj in abi_env.objects:\n",
    "    print(obj.type.name)\n",
    "    if obj.type.name == 'AssetBundleManifest':\n",
    "        tree = obj.read_typetree()\n",
    "        \n",
    "        print(f'{len(tree['AssetBundleNames'])}, {len(tree['AssetBundleInfos'])}')\n",
    "        \n",
    "        while len(tree['AssetBundleNames']) < len(tree['AssetBundleInfos']):\n",
    "            tree['AssetBundleNames'].append(tree['AssetBundleNames'][0])\n",
    "        \n",
    "        while len(tree['AssetBundleInfos']) < len(tree['AssetBundleNames']):\n",
    "            tree['AssetBundleInfos'].append((len(tree['AssetBundleInfos']), {\n",
    "                'AssetBundleHash': {\n",
    "                    'bytes[0]': 0, 'bytes[1]': 0, 'bytes[2]': 0, 'bytes[3]': 0, 'bytes[4]': 0, 'bytes[5]': 0, 'bytes[6]': 0, 'bytes[7]': 0, 'bytes[8]': 0, \n",
    "                    'bytes[9]': 0, 'bytes[10]': 0, 'bytes[11]': 0, 'bytes[12]': 0, 'bytes[13]': 0, 'bytes[14]': 0, 'bytes[15]': 0\n",
    "                }, \n",
    "                'AssetBundleDependencies': []\n",
    "            }))\n",
    "\n",
    "        print(f'{len(tree['AssetBundleNames'])}, {len(tree['AssetBundleInfos'])}')\n",
    "\n",
    "        for music_id_numeric in [2000, 2001, 2002]:\n",
    "            music_id = '%06d' % music_id_numeric\n",
    "            tree['AssetBundleNames'].append((len(tree['AssetBundleNames']), f'jacket/ui_jacket_{music_id}.ab'))\n",
    "            tree['AssetBundleInfos'].append((len(tree['AssetBundleInfos']), {\n",
    "                'AssetBundleHash': {\n",
    "                    'bytes[0]': 0, 'bytes[1]': 0, 'bytes[2]': 0, 'bytes[3]': 0, 'bytes[4]': 0, 'bytes[5]': 0, 'bytes[6]': 0, 'bytes[7]': 0, 'bytes[8]': 0, \n",
    "                    'bytes[9]': 0, 'bytes[10]': 0, 'bytes[11]': 0, 'bytes[12]': 0, 'bytes[13]': 0, 'bytes[14]': 0, 'bytes[15]': 0\n",
    "                }, \n",
    "                'AssetBundleDependencies': []\n",
    "            }))\n",
    "            tree['AssetBundleNames'].append((len(tree['AssetBundleNames']), f'jacket_s/ui_jacket_{music_id}_s.ab'))\n",
    "            tree['AssetBundleInfos'].append((len(tree['AssetBundleInfos']), {\n",
    "                'AssetBundleHash': {\n",
    "                    'bytes[0]': 0, 'bytes[1]': 0, 'bytes[2]': 0, 'bytes[3]': 0, 'bytes[4]': 0, 'bytes[5]': 0, 'bytes[6]': 0, 'bytes[7]': 0, 'bytes[8]': 0, \n",
    "                    'bytes[9]': 0, 'bytes[10]': 0, 'bytes[11]': 0, 'bytes[12]': 0, 'bytes[13]': 0, 'bytes[14]': 0, 'bytes[15]': 0\n",
    "                }, \n",
    "                'AssetBundleDependencies': []\n",
    "            }))\n",
    "            \n",
    "        print(f'{len(tree['AssetBundleNames'])}, {len(tree['AssetBundleInfos'])}')\n",
    "\n",
    "        obj.save_typetree(tree)\n",
    "\n",
    "\n",
    "with open('./output/AssetBundleImages', 'wb') as f:\n",
    "    f.write(abi_env.file.save())\n"
   ],
   "id": "a5798b0809d7cda1",
   "outputs": [
    {
     "name": "stdout",
     "output_type": "stream",
     "text": [
      "AssetBundle\n",
      "AssetBundleManifest\n",
      "9825, 9820\n",
      "9825, 9825\n",
      "9831, 9831\n"
     ]
    }
   ],
   "execution_count": 5
  },
  {
   "metadata": {
    "ExecuteTime": {
     "end_time": "2024-05-25T09:04:05.869759Z",
     "start_time": "2024-05-25T08:56:19.187257Z"
    }
   },
   "cell_type": "code",
   "source": [
    "env = UnityPy.load(f'./output/AssetBundleImages')\n",
    "for obj in env.objects:\n",
    "    print(obj.type.name)\n",
    "    if obj.type.name == 'AssetBundleManifest':\n",
    "        tree = obj.read_typetree()\n",
    "        print(tree)"
   ],
   "id": "d5ef1957bd3ea8b7",
   "outputs": [
    {
     "name": "stdout",
     "output_type": "stream",
     "text": [
      "AssetBundle\n",
      "AssetBundleManifest\n"
     ]
    },
    {
     "ename": "KeyboardInterrupt",
     "evalue": "",
     "output_type": "error",
     "traceback": [
      "\u001B[1;31m---------------------------------------------------------------------------\u001B[0m",
      "\u001B[1;31mKeyboardInterrupt\u001B[0m                         Traceback (most recent call last)",
      "Cell \u001B[1;32mIn[10], line 6\u001B[0m\n\u001B[0;32m      4\u001B[0m \u001B[38;5;28;01mif\u001B[39;00m obj\u001B[38;5;241m.\u001B[39mtype\u001B[38;5;241m.\u001B[39mname \u001B[38;5;241m==\u001B[39m \u001B[38;5;124m'\u001B[39m\u001B[38;5;124mAssetBundleManifest\u001B[39m\u001B[38;5;124m'\u001B[39m:\n\u001B[0;32m      5\u001B[0m     tree \u001B[38;5;241m=\u001B[39m obj\u001B[38;5;241m.\u001B[39mread_typetree()\n\u001B[1;32m----> 6\u001B[0m     \u001B[38;5;28mprint\u001B[39m(tree)\n",
      "File \u001B[1;32m_pydevd_bundle\\\\pydevd_cython_win32_312_64.pyx:1187\u001B[0m, in \u001B[0;36m_pydevd_bundle.pydevd_cython_win32_312_64.SafeCallWrapper.__call__\u001B[1;34m()\u001B[0m\n",
      "File \u001B[1;32m_pydevd_bundle\\\\pydevd_cython_win32_312_64.pyx:627\u001B[0m, in \u001B[0;36m_pydevd_bundle.pydevd_cython_win32_312_64.PyDBFrame.trace_dispatch\u001B[1;34m()\u001B[0m\n",
      "File \u001B[1;32m_pydevd_bundle\\\\pydevd_cython_win32_312_64.pyx:937\u001B[0m, in \u001B[0;36m_pydevd_bundle.pydevd_cython_win32_312_64.PyDBFrame.trace_dispatch\u001B[1;34m()\u001B[0m\n",
      "File \u001B[1;32m_pydevd_bundle\\\\pydevd_cython_win32_312_64.pyx:928\u001B[0m, in \u001B[0;36m_pydevd_bundle.pydevd_cython_win32_312_64.PyDBFrame.trace_dispatch\u001B[1;34m()\u001B[0m\n",
      "File \u001B[1;32m_pydevd_bundle\\\\pydevd_cython_win32_312_64.pyx:585\u001B[0m, in \u001B[0;36m_pydevd_bundle.pydevd_cython_win32_312_64.PyDBFrame.do_wait_suspend\u001B[1;34m()\u001B[0m\n",
      "File \u001B[1;32m~\\AppData\\Local\\Programs\\PyCharm Professional\\plugins\\python\\helpers\\pydev\\pydevd.py:1185\u001B[0m, in \u001B[0;36mPyDB.do_wait_suspend\u001B[1;34m(self, thread, frame, event, arg, send_suspend_message, is_unhandled_exception)\u001B[0m\n\u001B[0;32m   1182\u001B[0m         from_this_thread\u001B[38;5;241m.\u001B[39mappend(frame_id)\n\u001B[0;32m   1184\u001B[0m \u001B[38;5;28;01mwith\u001B[39;00m \u001B[38;5;28mself\u001B[39m\u001B[38;5;241m.\u001B[39m_threads_suspended_single_notification\u001B[38;5;241m.\u001B[39mnotify_thread_suspended(thread_id, stop_reason):\n\u001B[1;32m-> 1185\u001B[0m     \u001B[38;5;28;43mself\u001B[39;49m\u001B[38;5;241;43m.\u001B[39;49m\u001B[43m_do_wait_suspend\u001B[49m\u001B[43m(\u001B[49m\u001B[43mthread\u001B[49m\u001B[43m,\u001B[49m\u001B[43m \u001B[49m\u001B[43mframe\u001B[49m\u001B[43m,\u001B[49m\u001B[43m \u001B[49m\u001B[43mevent\u001B[49m\u001B[43m,\u001B[49m\u001B[43m \u001B[49m\u001B[43marg\u001B[49m\u001B[43m,\u001B[49m\u001B[43m \u001B[49m\u001B[43msuspend_type\u001B[49m\u001B[43m,\u001B[49m\u001B[43m \u001B[49m\u001B[43mfrom_this_thread\u001B[49m\u001B[43m)\u001B[49m\n",
      "File \u001B[1;32m~\\AppData\\Local\\Programs\\PyCharm Professional\\plugins\\python\\helpers\\pydev\\pydevd.py:1200\u001B[0m, in \u001B[0;36mPyDB._do_wait_suspend\u001B[1;34m(self, thread, frame, event, arg, suspend_type, from_this_thread)\u001B[0m\n\u001B[0;32m   1197\u001B[0m             \u001B[38;5;28mself\u001B[39m\u001B[38;5;241m.\u001B[39m_call_mpl_hook()\n\u001B[0;32m   1199\u001B[0m         \u001B[38;5;28mself\u001B[39m\u001B[38;5;241m.\u001B[39mprocess_internal_commands()\n\u001B[1;32m-> 1200\u001B[0m         \u001B[43mtime\u001B[49m\u001B[38;5;241;43m.\u001B[39;49m\u001B[43msleep\u001B[49m\u001B[43m(\u001B[49m\u001B[38;5;241;43m0.01\u001B[39;49m\u001B[43m)\u001B[49m\n\u001B[0;32m   1202\u001B[0m \u001B[38;5;28mself\u001B[39m\u001B[38;5;241m.\u001B[39mcancel_async_evaluation(get_current_thread_id(thread), \u001B[38;5;28mstr\u001B[39m(\u001B[38;5;28mid\u001B[39m(frame)))\n\u001B[0;32m   1204\u001B[0m \u001B[38;5;66;03m# process any stepping instructions\u001B[39;00m\n",
      "\u001B[1;31mKeyboardInterrupt\u001B[0m: "
     ]
    }
   ],
   "execution_count": 10
  },
  {
   "metadata": {},
   "cell_type": "code",
   "outputs": [],
   "execution_count": null,
   "source": [
    "env = UnityPy.load(f'../data/AssetBundleImages')\n",
    "for obj in env.objects:\n",
    "    print(obj.type.name)\n",
    "    if obj.type.name == 'AssetBundleManifest':\n",
    "        tree = obj.read_typetree()"
   ],
   "id": "623928fafe5d74cd"
  },
  {
   "metadata": {},
   "cell_type": "code",
   "outputs": [],
   "execution_count": null,
   "source": [
    "env = UnityPy.load(f'../data/AssetBundleImages')\n",
    "for obj in env.objects:\n",
    "    print(obj.type.name)\n",
    "    if obj.type.name == 'AssetBundleManifest':\n",
    "        tree = obj.read_typetree()"
   ],
   "id": "9f4c0a114b41f2aa"
  },
  {
   "metadata": {},
   "cell_type": "code",
   "outputs": [],
   "execution_count": null,
   "source": "",
   "id": "7a9e317610ec219b"
  },
  {
   "metadata": {},
   "cell_type": "code",
   "outputs": [],
   "execution_count": null,
   "source": "",
   "id": "b25cd0581d24708f"
  },
  {
   "metadata": {},
   "cell_type": "code",
   "outputs": [],
   "execution_count": null,
   "source": [
    "env = UnityPy.load(f'../data/AssetBundleImages')\n",
    "for obj in env.objects:\n",
    "    tree = obj.read_typetree()\n",
    "    print(obj.type.name)\n",
    "        "
   ],
   "id": "390586454cf41da5"
  },
  {
   "metadata": {
    "ExecuteTime": {
     "end_time": "2024-05-26T13:03:30.386431Z",
     "start_time": "2024-05-25T09:05:04.683047Z"
    }
   },
   "cell_type": "code",
   "source": [
    "env = UnityPy.load(f'../data/ui_jacket_001686.ab')\n",
    "for obj in env.objects:\n",
    "    tree = obj.read_typetree()\n",
    "    print(obj.type.name)"
   ],
   "id": "71f47ed3687a9aaf",
   "outputs": [
    {
     "ename": "KeyboardInterrupt",
     "evalue": "",
     "output_type": "error",
     "traceback": [
      "\u001B[1;31m---------------------------------------------------------------------------\u001B[0m",
      "\u001B[1;31mKeyboardInterrupt\u001B[0m                         Traceback (most recent call last)",
      "Cell \u001B[1;32mIn[13], line 4\u001B[0m\n\u001B[0;32m      2\u001B[0m \u001B[38;5;28;01mfor\u001B[39;00m obj \u001B[38;5;129;01min\u001B[39;00m env\u001B[38;5;241m.\u001B[39mobjects:\n\u001B[0;32m      3\u001B[0m     tree \u001B[38;5;241m=\u001B[39m obj\u001B[38;5;241m.\u001B[39mread_typetree()\n\u001B[1;32m----> 4\u001B[0m     \u001B[38;5;28mprint\u001B[39m(obj\u001B[38;5;241m.\u001B[39mtype\u001B[38;5;241m.\u001B[39mname)\n",
      "File \u001B[1;32m_pydevd_bundle\\\\pydevd_cython_win32_312_64.pyx:1187\u001B[0m, in \u001B[0;36m_pydevd_bundle.pydevd_cython_win32_312_64.SafeCallWrapper.__call__\u001B[1;34m()\u001B[0m\n",
      "File \u001B[1;32m_pydevd_bundle\\\\pydevd_cython_win32_312_64.pyx:627\u001B[0m, in \u001B[0;36m_pydevd_bundle.pydevd_cython_win32_312_64.PyDBFrame.trace_dispatch\u001B[1;34m()\u001B[0m\n",
      "File \u001B[1;32m_pydevd_bundle\\\\pydevd_cython_win32_312_64.pyx:937\u001B[0m, in \u001B[0;36m_pydevd_bundle.pydevd_cython_win32_312_64.PyDBFrame.trace_dispatch\u001B[1;34m()\u001B[0m\n",
      "File \u001B[1;32m_pydevd_bundle\\\\pydevd_cython_win32_312_64.pyx:928\u001B[0m, in \u001B[0;36m_pydevd_bundle.pydevd_cython_win32_312_64.PyDBFrame.trace_dispatch\u001B[1;34m()\u001B[0m\n",
      "File \u001B[1;32m_pydevd_bundle\\\\pydevd_cython_win32_312_64.pyx:585\u001B[0m, in \u001B[0;36m_pydevd_bundle.pydevd_cython_win32_312_64.PyDBFrame.do_wait_suspend\u001B[1;34m()\u001B[0m\n",
      "File \u001B[1;32m~\\AppData\\Local\\Programs\\PyCharm Professional\\plugins\\python\\helpers\\pydev\\pydevd.py:1185\u001B[0m, in \u001B[0;36mPyDB.do_wait_suspend\u001B[1;34m(self, thread, frame, event, arg, send_suspend_message, is_unhandled_exception)\u001B[0m\n\u001B[0;32m   1182\u001B[0m         from_this_thread\u001B[38;5;241m.\u001B[39mappend(frame_id)\n\u001B[0;32m   1184\u001B[0m \u001B[38;5;28;01mwith\u001B[39;00m \u001B[38;5;28mself\u001B[39m\u001B[38;5;241m.\u001B[39m_threads_suspended_single_notification\u001B[38;5;241m.\u001B[39mnotify_thread_suspended(thread_id, stop_reason):\n\u001B[1;32m-> 1185\u001B[0m     \u001B[38;5;28;43mself\u001B[39;49m\u001B[38;5;241;43m.\u001B[39;49m\u001B[43m_do_wait_suspend\u001B[49m\u001B[43m(\u001B[49m\u001B[43mthread\u001B[49m\u001B[43m,\u001B[49m\u001B[43m \u001B[49m\u001B[43mframe\u001B[49m\u001B[43m,\u001B[49m\u001B[43m \u001B[49m\u001B[43mevent\u001B[49m\u001B[43m,\u001B[49m\u001B[43m \u001B[49m\u001B[43marg\u001B[49m\u001B[43m,\u001B[49m\u001B[43m \u001B[49m\u001B[43msuspend_type\u001B[49m\u001B[43m,\u001B[49m\u001B[43m \u001B[49m\u001B[43mfrom_this_thread\u001B[49m\u001B[43m)\u001B[49m\n",
      "File \u001B[1;32m~\\AppData\\Local\\Programs\\PyCharm Professional\\plugins\\python\\helpers\\pydev\\pydevd.py:1200\u001B[0m, in \u001B[0;36mPyDB._do_wait_suspend\u001B[1;34m(self, thread, frame, event, arg, suspend_type, from_this_thread)\u001B[0m\n\u001B[0;32m   1197\u001B[0m             \u001B[38;5;28mself\u001B[39m\u001B[38;5;241m.\u001B[39m_call_mpl_hook()\n\u001B[0;32m   1199\u001B[0m         \u001B[38;5;28mself\u001B[39m\u001B[38;5;241m.\u001B[39mprocess_internal_commands()\n\u001B[1;32m-> 1200\u001B[0m         \u001B[43mtime\u001B[49m\u001B[38;5;241;43m.\u001B[39;49m\u001B[43msleep\u001B[49m\u001B[43m(\u001B[49m\u001B[38;5;241;43m0.01\u001B[39;49m\u001B[43m)\u001B[49m\n\u001B[0;32m   1202\u001B[0m \u001B[38;5;28mself\u001B[39m\u001B[38;5;241m.\u001B[39mcancel_async_evaluation(get_current_thread_id(thread), \u001B[38;5;28mstr\u001B[39m(\u001B[38;5;28mid\u001B[39m(frame)))\n\u001B[0;32m   1204\u001B[0m \u001B[38;5;66;03m# process any stepping instructions\u001B[39;00m\n",
      "\u001B[1;31mKeyboardInterrupt\u001B[0m: "
     ]
    }
   ],
   "execution_count": 13
  },
  {
   "metadata": {},
   "cell_type": "code",
   "outputs": [],
   "execution_count": null,
   "source": "",
   "id": "af694666e607e3a"
  },
  {
   "metadata": {
    "ExecuteTime": {
     "end_time": "2024-05-25T08:55:12.477950Z",
     "start_time": "2024-05-25T08:55:12.472568Z"
    }
   },
   "cell_type": "code",
   "source": "",
   "id": "c01cf4d39841705f",
   "outputs": [
    {
     "name": "stdout",
     "output_type": "stream",
     "text": [
      "151160088356251221197395960542209201417\n"
     ]
    }
   ],
   "execution_count": 8
  },
  {
   "metadata": {},
   "cell_type": "code",
   "outputs": [],
   "execution_count": null,
   "source": "",
   "id": "b94b1ef64ccec24b"
  }
 ],
 "metadata": {
  "kernelspec": {
   "display_name": "Python 3",
   "language": "python",
   "name": "python3"
  },
  "language_info": {
   "codemirror_mode": {
    "name": "ipython",
    "version": 2
   },
   "file_extension": ".py",
   "mimetype": "text/x-python",
   "name": "python",
   "nbconvert_exporter": "python",
   "pygments_lexer": "ipython2",
   "version": "2.7.6"
  }
 },
 "nbformat": 4,
 "nbformat_minor": 5
}
