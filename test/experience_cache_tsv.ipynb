{
 "cells": [
  {
   "cell_type": "code",
   "id": "initial_id",
   "metadata": {
    "collapsed": true,
    "ExecuteTime": {
     "end_time": "2024-06-01T06:51:19.575786Z",
     "start_time": "2024-06-01T06:51:19.572285Z"
    }
   },
   "source": [
    "\n",
    "import pandas as pd\n",
    "import os"
   ],
   "outputs": [],
   "execution_count": 22
  },
  {
   "metadata": {
    "ExecuteTime": {
     "end_time": "2024-06-01T07:07:01.523588Z",
     "start_time": "2024-06-01T07:07:01.518940Z"
    }
   },
   "cell_type": "code",
   "source": [
    "cache_path = './cache.tsv'\n",
    "\n",
    "def get_new_music_id(cache_path: str, music_folder_name: str):\n",
    "    if not os.path.exists(cache_path):\n",
    "        music_id = 2001\n",
    "        df = pd.DataFrame({'musid_id': [music_id],  'music_folder_name': [music_folder_name]})\n",
    "        df.to_csv(cache_path, index=False, sep='\\t')\n",
    "        return music_id\n",
    "    \n",
    "    df = pd.read_csv(cache_path, sep='\\t')\n",
    "    tmp_df = df[df['music_folder_name'] == music_folder_name]\n",
    "    if len(tmp_df) > 0:\n",
    "        return tmp_df['musid_id'].iloc[0]\n",
    "    \n",
    "    music_id = int(df['musid_id'].max()) + 1\n",
    "    df =  pd.concat([df, pd.DataFrame({'musid_id': [music_id],  'music_folder_name': [music_folder_name]})])\n",
    "    df.to_csv(cache_path, index=False, sep='\\t')\n",
    "    return music_id"
   ],
   "id": "c44b7ca51eb63398",
   "outputs": [],
   "execution_count": 34
  },
  {
   "metadata": {
    "ExecuteTime": {
     "end_time": "2024-06-01T07:07:16.347856Z",
     "start_time": "2024-06-01T07:07:16.322020Z"
    }
   },
   "cell_type": "code",
   "source": [
    "print(get_new_music_id('test.tsv', 'A'))\n",
    "print(get_new_music_id('test.tsv', 'B'))\n",
    "print(get_new_music_id('test.tsv', 'C'))\n",
    "print(get_new_music_id('test.tsv', 'A'))\n"
   ],
   "id": "5642dcb09f481915",
   "outputs": [
    {
     "name": "stdout",
     "output_type": "stream",
     "text": [
      "2001\n",
      "2002\n",
      "2003\n",
      "2001\n"
     ]
    }
   ],
   "execution_count": 35
  },
  {
   "metadata": {
    "ExecuteTime": {
     "end_time": "2024-06-01T06:44:04.258765Z",
     "start_time": "2024-06-01T06:44:04.254659Z"
    }
   },
   "cell_type": "code",
   "source": "df['musid_id']",
   "id": "dd475f4dfc6928e8",
   "outputs": [
    {
     "data": {
      "text/plain": [
       "0    2001\n",
       "Name: musid_id, dtype: int64"
      ]
     },
     "execution_count": 16,
     "metadata": {},
     "output_type": "execute_result"
    }
   ],
   "execution_count": 16
  },
  {
   "metadata": {
    "ExecuteTime": {
     "end_time": "2024-06-01T06:41:55.566765Z",
     "start_time": "2024-06-01T06:41:55.562607Z"
    }
   },
   "cell_type": "code",
   "source": "df = df[df['music_folder_name'] == 'ABC']",
   "id": "adc9ae54f3dbaf7e",
   "outputs": [],
   "execution_count": 12
  },
  {
   "metadata": {
    "ExecuteTime": {
     "end_time": "2024-06-01T06:49:21.002742Z",
     "start_time": "2024-06-01T06:49:20.998057Z"
    }
   },
   "cell_type": "code",
   "source": "df['music_folder_name'] == 'ABC'",
   "id": "42efe7b4dfe7eaf",
   "outputs": [
    {
     "data": {
      "text/plain": [
       "0    True\n",
       "Name: music_folder_name, dtype: bool"
      ]
     },
     "execution_count": 18,
     "metadata": {},
     "output_type": "execute_result"
    }
   ],
   "execution_count": 18
  },
  {
   "metadata": {},
   "cell_type": "code",
   "outputs": [],
   "execution_count": null,
   "source": "",
   "id": "adacd5c9657d630a"
  }
 ],
 "metadata": {
  "kernelspec": {
   "display_name": "Python 3",
   "language": "python",
   "name": "python3"
  },
  "language_info": {
   "codemirror_mode": {
    "name": "ipython",
    "version": 2
   },
   "file_extension": ".py",
   "mimetype": "text/x-python",
   "name": "python",
   "nbconvert_exporter": "python",
   "pygments_lexer": "ipython2",
   "version": "2.7.6"
  }
 },
 "nbformat": 4,
 "nbformat_minor": 5
}
