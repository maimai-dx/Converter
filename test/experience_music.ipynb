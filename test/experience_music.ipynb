{
 "cells": [
  {
   "cell_type": "code",
   "id": "initial_id",
   "metadata": {
    "collapsed": true,
    "ExecuteTime": {
     "end_time": "2024-06-13T10:56:06.789591Z",
     "start_time": "2024-06-13T10:56:06.769649Z"
    }
   },
   "source": [
    "import os\n",
    "import shutil\n",
    "import ffmpeg\n",
    "import contextlib\n",
    "from pathlib import Path\n",
    "import subprocess\n",
    "\n",
    "# os.chdir(Path(os.path.abspath(\"\")).parent)"
   ],
   "outputs": [],
   "execution_count": 1
  },
  {
   "metadata": {
    "ExecuteTime": {
     "end_time": "2024-06-13T10:56:06.793219Z",
     "start_time": "2024-06-13T10:56:06.790598Z"
    }
   },
   "cell_type": "code",
   "source": "print(os.path.abspath(\"\"))",
   "id": "7e5ef274cb8be944",
   "outputs": [
    {
     "name": "stdout",
     "output_type": "stream",
     "text": [
      "C:\\Users\\Luxus\\Projects\\_Project\\maimai\\Converter\\test\n"
     ]
    }
   ],
   "execution_count": 2
  },
  {
   "metadata": {
    "ExecuteTime": {
     "end_time": "2024-06-13T10:56:07.351075Z",
     "start_time": "2024-06-13T10:56:07.347904Z"
    }
   },
   "cell_type": "code",
   "source": [
    "output = './output'\n",
    "output = './tmp'"
   ],
   "id": "59889e0e1df72c42",
   "outputs": [],
   "execution_count": 3
  },
  {
   "metadata": {
    "ExecuteTime": {
     "end_time": "2024-06-13T10:56:08.315276Z",
     "start_time": "2024-06-13T10:56:08.312532Z"
    }
   },
   "cell_type": "code",
   "source": [
    "shutil.rmtree(output, ignore_errors=True)\n",
    "os.makedirs(output, exist_ok=True)"
   ],
   "id": "314ad9fce6c441bc",
   "outputs": [],
   "execution_count": 4
  },
  {
   "metadata": {
    "ExecuteTime": {
     "end_time": "2024-06-13T10:56:13.563677Z",
     "start_time": "2024-06-13T10:56:09.457157Z"
    }
   },
   "cell_type": "code",
   "source": [
    "# music\n",
    "shutil.copy('../data/music001686.acb', './tmp/music.acb')\n",
    "shutil.copy('../data/music001686.awb', './tmp/music.awb')\n",
    "os.system(f'..\\\\SonicAudioTools\\\\AcbEditor.exe ./tmp/music.acb')"
   ],
   "id": "93ddaf8fcf9ea24e",
   "outputs": [
    {
     "data": {
      "text/plain": [
       "0"
      ]
     },
     "execution_count": 5,
     "metadata": {},
     "output_type": "execute_result"
    }
   ],
   "execution_count": 5
  },
  {
   "metadata": {
    "ExecuteTime": {
     "end_time": "2024-06-13T10:56:23.461566Z",
     "start_time": "2024-06-13T10:56:23.451646Z"
    }
   },
   "cell_type": "code",
   "source": [
    "\n",
    "shutil.copy('../data/music001686.acb', f'{output}/music.acb')\n",
    "shutil.copy('../data/music001686.awb', f'{output}/music.awb')"
   ],
   "id": "75cb0f986e462ac6",
   "outputs": [
    {
     "data": {
      "text/plain": [
       "'./tmp/music.awb'"
      ]
     },
     "execution_count": 6,
     "metadata": {},
     "output_type": "execute_result"
    }
   ],
   "execution_count": 6
  },
  {
   "metadata": {
    "ExecuteTime": {
     "end_time": "2024-05-22T08:53:25.534767Z",
     "start_time": "2024-05-22T08:53:23.853071Z"
    }
   },
   "cell_type": "code",
   "source": "os.system(f'..\\\\SonicAudioTools\\\\AcbEditor.exe ./tmp/music.acb') # create music/00000_streaming.hca",
   "id": "607eeca2e4204204",
   "outputs": [
    {
     "data": {
      "text/plain": [
       "0"
      ]
     },
     "execution_count": 11,
     "metadata": {},
     "output_type": "execute_result"
    }
   ],
   "execution_count": 11
  },
  {
   "metadata": {
    "ExecuteTime": {
     "end_time": "2024-06-13T10:56:31.542314Z",
     "start_time": "2024-06-13T10:56:31.058399Z"
    }
   },
   "cell_type": "code",
   "source": [
    "stream = ffmpeg.input(f'../example/track.mp3')\n",
    "stream = ffmpeg.output(stream, f'{output}/tmp.wav').overwrite_output()\n",
    "ffmpeg.run(stream)"
   ],
   "id": "eb14885077dccf3b",
   "outputs": [
    {
     "data": {
      "text/plain": [
       "(None, None)"
      ]
     },
     "execution_count": 7,
     "metadata": {},
     "output_type": "execute_result"
    }
   ],
   "execution_count": 7
  },
  {
   "metadata": {
    "ExecuteTime": {
     "end_time": "2024-06-13T10:57:14.288662Z",
     "start_time": "2024-06-13T10:57:12.912065Z"
    }
   },
   "cell_type": "code",
   "source": [
    "stream = ffmpeg.input(f'../example/track.mp3')\n",
    "stream = ffmpeg.output(stream, f'{output}/tmp.wav').overwrite_output()\n",
    "ffmpeg.run(stream)\n",
    "#os.makedirs(f'{output}/music', exist_ok=True)\n",
    "os.system(f'..\\\\CriEncoder\\\\criatomencd.exe {output}/tmp.wav {output}/music/00000_streaming.hca -keycode=9170825592834449000')"
   ],
   "id": "a09fc042fa73d812",
   "outputs": [
    {
     "data": {
      "text/plain": [
       "0"
      ]
     },
     "execution_count": 11,
     "metadata": {},
     "output_type": "execute_result"
    }
   ],
   "execution_count": 11
  },
  {
   "metadata": {
    "ExecuteTime": {
     "end_time": "2024-06-13T12:40:35.606751Z",
     "start_time": "2024-06-13T12:40:35.500033Z"
    }
   },
   "cell_type": "code",
   "source": [
    "command = f'..\\\\SonicAudioTools\\\\AcbEditor.exe {output}/music'\n",
    "print(command)\n",
    "\n",
    "startupinfo = subprocess.STARTUPINFO()\n",
    "startupinfo.dwFlags |= subprocess.STARTF_USESHOWWINDOW\n",
    "# startupinfo.wShowWindow = subprocess.SW_HIDE  # 콘솔 창을 숨기는 옵션 설정\n",
    "\n",
    "process = subprocess.run(command, creationflags=0x08000000) # run with CREATE_NO_WINDOW\n",
    "\n",
    "#shutil.move('./output/music.acb', f'./result/SoundData/music002000.acb')\n",
    "#shutil.move('./tmp/music.awb', f'./result/SoundData/music002000.awb')"
   ],
   "id": "6e7d402dd06ccd39",
   "outputs": [
    {
     "name": "stdout",
     "output_type": "stream",
     "text": [
      "..\\SonicAudioTools\\AcbEditor.exe ./tmp/music\n"
     ]
    }
   ],
   "execution_count": 37
  },
  {
   "metadata": {
    "ExecuteTime": {
     "end_time": "2024-05-22T08:51:16.331426Z",
     "start_time": "2024-05-22T08:51:14.830492Z"
    }
   },
   "cell_type": "code",
   "source": [
    "result = subprocess.run([f'{os.path.abspath(\"\")}\\\\..\\\\SonicAudioTools\\\\AcbEditor.exe', f'{os.path.abspath(\"\")}//{output}/music'])\n",
    "print(result)"
   ],
   "id": "135b01994e605ac2",
   "outputs": [
    {
     "name": "stdout",
     "output_type": "stream",
     "text": [
      "CompletedProcess(args=['C:\\\\Users\\\\Luxus\\\\Projects\\\\_Project\\\\maimai\\\\Converter\\\\test\\\\..\\\\SonicAudioTools\\\\AcbEditor.exe', 'C:\\\\Users\\\\Luxus\\\\Projects\\\\_Project\\\\maimai\\\\Converter\\\\test//./tmp/music'], returncode=0)\n"
     ]
    }
   ],
   "execution_count": 17
  },
  {
   "metadata": {},
   "cell_type": "code",
   "outputs": [],
   "execution_count": null,
   "source": "",
   "id": "183122e7b727299e"
  }
 ],
 "metadata": {
  "kernelspec": {
   "display_name": "Python 3",
   "language": "python",
   "name": "python3"
  },
  "language_info": {
   "codemirror_mode": {
    "name": "ipython",
    "version": 2
   },
   "file_extension": ".py",
   "mimetype": "text/x-python",
   "name": "python",
   "nbconvert_exporter": "python",
   "pygments_lexer": "ipython2",
   "version": "2.7.6"
  }
 },
 "nbformat": 4,
 "nbformat_minor": 5
}
