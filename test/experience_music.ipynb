{
 "cells": [
  {
   "cell_type": "code",
   "id": "initial_id",
   "metadata": {
    "collapsed": true,
    "ExecuteTime": {
     "end_time": "2024-05-22T09:23:59.920414Z",
     "start_time": "2024-05-22T09:23:59.901209Z"
    }
   },
   "source": [
    "import os\n",
    "import shutil\n",
    "import ffmpeg\n",
    "import contextlib\n",
    "from pathlib import Path\n",
    "import subprocess\n",
    "\n",
    "# os.chdir(Path(os.path.abspath(\"\")).parent)"
   ],
   "outputs": [],
   "execution_count": 1
  },
  {
   "metadata": {
    "ExecuteTime": {
     "end_time": "2024-05-22T09:24:00.792142Z",
     "start_time": "2024-05-22T09:24:00.788902Z"
    }
   },
   "cell_type": "code",
   "source": "print(os.path.abspath(\"\"))",
   "id": "7e5ef274cb8be944",
   "outputs": [
    {
     "name": "stdout",
     "output_type": "stream",
     "text": [
      "C:\\Users\\Luxus\\Projects\\_Project\\maimai\\Converter\\test\n"
     ]
    }
   ],
   "execution_count": 2
  },
  {
   "metadata": {
    "ExecuteTime": {
     "end_time": "2024-05-22T09:24:01.723109Z",
     "start_time": "2024-05-22T09:24:01.720793Z"
    }
   },
   "cell_type": "code",
   "source": [
    "output = './output'\n",
    "output = './tmp'"
   ],
   "id": "59889e0e1df72c42",
   "outputs": [],
   "execution_count": 3
  },
  {
   "metadata": {
    "ExecuteTime": {
     "end_time": "2024-05-22T09:24:02.240357Z",
     "start_time": "2024-05-22T09:24:02.233481Z"
    }
   },
   "cell_type": "code",
   "source": [
    "shutil.rmtree(output, ignore_errors=True)\n",
    "os.makedirs(output, exist_ok=True)"
   ],
   "id": "314ad9fce6c441bc",
   "outputs": [],
   "execution_count": 4
  },
  {
   "metadata": {
    "ExecuteTime": {
     "end_time": "2024-05-22T09:24:04.113231Z",
     "start_time": "2024-05-22T09:24:02.706533Z"
    }
   },
   "cell_type": "code",
   "source": [
    "# music\n",
    "shutil.copy('../data/music001686.acb', './tmp/music.acb')\n",
    "shutil.copy('../data/music001686.awb', './tmp/music.awb')\n",
    "os.system(f'..\\\\SonicAudioTools\\\\AcbEditor.exe ./tmp/music.acb')"
   ],
   "id": "93ddaf8fcf9ea24e",
   "outputs": [
    {
     "data": {
      "text/plain": [
       "0"
      ]
     },
     "execution_count": 5,
     "metadata": {},
     "output_type": "execute_result"
    }
   ],
   "execution_count": 5
  },
  {
   "metadata": {
    "ExecuteTime": {
     "end_time": "2024-05-22T09:24:07.465715Z",
     "start_time": "2024-05-22T09:24:07.456276Z"
    }
   },
   "cell_type": "code",
   "source": [
    "\n",
    "shutil.copy('../data/music001686.acb', f'{output}/music.acb')\n",
    "shutil.copy('../data/music001686.awb', f'{output}/music.awb')"
   ],
   "id": "75cb0f986e462ac6",
   "outputs": [
    {
     "data": {
      "text/plain": [
       "'./tmp/music.awb'"
      ]
     },
     "execution_count": 6,
     "metadata": {},
     "output_type": "execute_result"
    }
   ],
   "execution_count": 6
  },
  {
   "metadata": {
    "ExecuteTime": {
     "end_time": "2024-05-22T08:53:25.534767Z",
     "start_time": "2024-05-22T08:53:23.853071Z"
    }
   },
   "cell_type": "code",
   "source": "os.system(f'..\\\\SonicAudioTools\\\\AcbEditor.exe ./tmp/music.acb') # create music/00000_streaming.hca",
   "id": "607eeca2e4204204",
   "outputs": [
    {
     "data": {
      "text/plain": [
       "0"
      ]
     },
     "execution_count": 11,
     "metadata": {},
     "output_type": "execute_result"
    }
   ],
   "execution_count": 11
  },
  {
   "metadata": {
    "ExecuteTime": {
     "end_time": "2024-05-22T09:24:12.638795Z",
     "start_time": "2024-05-22T09:24:12.170466Z"
    }
   },
   "cell_type": "code",
   "source": [
    "stream = ffmpeg.input(f'../example/track.mp3')\n",
    "stream = ffmpeg.output(stream, f'{output}/tmp.wav').overwrite_output()\n",
    "ffmpeg.run(stream)"
   ],
   "id": "eb14885077dccf3b",
   "outputs": [
    {
     "data": {
      "text/plain": [
       "(None, None)"
      ]
     },
     "execution_count": 7,
     "metadata": {},
     "output_type": "execute_result"
    }
   ],
   "execution_count": 7
  },
  {
   "metadata": {
    "ExecuteTime": {
     "end_time": "2024-05-22T09:24:18.772260Z",
     "start_time": "2024-05-22T09:24:17.494211Z"
    }
   },
   "cell_type": "code",
   "source": [
    "stream = ffmpeg.input(f'../example/track.mp3')\n",
    "stream = ffmpeg.output(stream, f'{output}/tmp.wav').overwrite_output()\n",
    "ffmpeg.run(stream)\n",
    "#os.makedirs(f'{output}/music', exist_ok=True)\n",
    "os.system(f'{os.path.abspath(\"\")}\\\\..\\\\CriEncoder\\\\criatomencd.exe {os.path.abspath(\"\")}/{output}/tmp.wav {os.path.abspath(\"\")}/{output}/music/00000_streaming.hca -keycode=9170825592834449000')"
   ],
   "id": "a09fc042fa73d812",
   "outputs": [
    {
     "data": {
      "text/plain": [
       "0"
      ]
     },
     "execution_count": 8,
     "metadata": {},
     "output_type": "execute_result"
    }
   ],
   "execution_count": 8
  },
  {
   "metadata": {
    "ExecuteTime": {
     "end_time": "2024-05-22T08:53:38.099693Z",
     "start_time": "2024-05-22T08:53:36.827416Z"
    }
   },
   "cell_type": "code",
   "source": [
    "command = f'{os.path.abspath(\"\")}\\\\..\\\\SonicAudioTools\\\\AcbEditor.exe {os.path.abspath(\"\")}//{output}/music'\n",
    "print(command)\n",
    "os.system(command)\n",
    "#shutil.move('./output/music.acb', f'./result/SoundData/music002000.acb')\n",
    "#shutil.move('./tmp/music.awb', f'./result/SoundData/music002000.awb')"
   ],
   "id": "6e7d402dd06ccd39",
   "outputs": [
    {
     "name": "stdout",
     "output_type": "stream",
     "text": [
      "C:\\Users\\Luxus\\Projects\\_Project\\maimai\\Converter\\test\\..\\SonicAudioTools\\AcbEditor.exe C:\\Users\\Luxus\\Projects\\_Project\\maimai\\Converter\\test//./tmp/music\n"
     ]
    },
    {
     "data": {
      "text/plain": [
       "0"
      ]
     },
     "execution_count": 13,
     "metadata": {},
     "output_type": "execute_result"
    }
   ],
   "execution_count": 13
  },
  {
   "metadata": {
    "ExecuteTime": {
     "end_time": "2024-05-22T08:51:16.331426Z",
     "start_time": "2024-05-22T08:51:14.830492Z"
    }
   },
   "cell_type": "code",
   "source": [
    "result = subprocess.run([f'{os.path.abspath(\"\")}\\\\..\\\\SonicAudioTools\\\\AcbEditor.exe', f'{os.path.abspath(\"\")}//{output}/music'])\n",
    "print(result)"
   ],
   "id": "135b01994e605ac2",
   "outputs": [
    {
     "name": "stdout",
     "output_type": "stream",
     "text": [
      "CompletedProcess(args=['C:\\\\Users\\\\Luxus\\\\Projects\\\\_Project\\\\maimai\\\\Converter\\\\test\\\\..\\\\SonicAudioTools\\\\AcbEditor.exe', 'C:\\\\Users\\\\Luxus\\\\Projects\\\\_Project\\\\maimai\\\\Converter\\\\test//./tmp/music'], returncode=0)\n"
     ]
    }
   ],
   "execution_count": 17
  },
  {
   "metadata": {},
   "cell_type": "code",
   "outputs": [],
   "execution_count": null,
   "source": "",
   "id": "183122e7b727299e"
  }
 ],
 "metadata": {
  "kernelspec": {
   "display_name": "Python 3",
   "language": "python",
   "name": "python3"
  },
  "language_info": {
   "codemirror_mode": {
    "name": "ipython",
    "version": 2
   },
   "file_extension": ".py",
   "mimetype": "text/x-python",
   "name": "python",
   "nbconvert_exporter": "python",
   "pygments_lexer": "ipython2",
   "version": "2.7.6"
  }
 },
 "nbformat": 4,
 "nbformat_minor": 5
}
