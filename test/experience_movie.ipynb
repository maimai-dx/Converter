{
 "cells": [
  {
   "metadata": {},
   "cell_type": "code",
   "outputs": [],
   "execution_count": 56,
   "source": [
    "import os\n",
    "import sys\n",
    "import shutil\n",
    "import ffmpeg\n",
    "from pathlib import Path\n",
    "from wannacri.wannacri import create_usm\n",
    "from unittest.mock import patch\n",
    "\n",
    "\n"
   ],
   "id": "initial_id"
  },
  {
   "metadata": {
    "ExecuteTime": {
     "end_time": "2024-05-19T14:25:18.603671Z",
     "start_time": "2024-05-19T14:25:18.600470Z"
    }
   },
   "cell_type": "code",
   "source": [
    "shutil.rmtree('./output', ignore_errors=True)\n",
    "os.makedirs('./output', exist_ok=True)"
   ],
   "id": "605c18d56a0ea00",
   "outputs": [],
   "execution_count": 49
  },
  {
   "metadata": {},
   "cell_type": "code",
   "outputs": [],
   "execution_count": null,
   "source": "",
   "id": "ce8d2e45d3d57526"
  },
  {
   "metadata": {
    "ExecuteTime": {
     "end_time": "2024-05-19T14:26:23.924348Z",
     "start_time": "2024-05-19T14:25:34.412134Z"
    }
   },
   "cell_type": "code",
   "source": [
    "# movie\n",
    "stream = ffmpeg.input(f'../example/pv.mp4')\n",
    "stream = ffmpeg.output(stream, f'./output/002000.ivf', vcodec='vp9').overwrite_output()\n",
    "ffmpeg.run(stream)\n",
    "os.system(f'wannacri createusm ./output/002000.ivf --key 0x7F4551499DF55E68')\n",
    "# shutil.move(f'./tmp/{str_music_num}.dat', f'./result/MovieData/{str_music_num}.dat')"
   ],
   "id": "bcf99537e14db648",
   "outputs": [
    {
     "data": {
      "text/plain": [
       "0"
      ]
     },
     "execution_count": 50,
     "metadata": {},
     "output_type": "execute_result"
    }
   ],
   "execution_count": 50
  },
  {
   "metadata": {},
   "cell_type": "code",
   "outputs": [],
   "execution_count": null,
   "source": "",
   "id": "7f606403cecedc98"
  },
  {
   "metadata": {},
   "cell_type": "code",
   "outputs": [],
   "execution_count": null,
   "source": "",
   "id": "565814899ebe879"
  },
  {
   "metadata": {},
   "cell_type": "code",
   "outputs": [],
   "execution_count": null,
   "source": "",
   "id": "f9fbcbe2b43380ef"
  },
  {
   "metadata": {
    "ExecuteTime": {
     "end_time": "2024-05-19T14:23:51.363539Z",
     "start_time": "2024-05-19T14:23:02.106561Z"
    }
   },
   "cell_type": "code",
   "source": [
    "# movie\n",
    "stream = ffmpeg.input(f'../example/pv.mp4')\n",
    "stream = ffmpeg.output(stream, f'./output/002000.ivf', vcodec='vp9').overwrite_output()\n",
    "ffmpeg.run(stream)"
   ],
   "id": "1d8cf4911d439017",
   "outputs": [
    {
     "data": {
      "text/plain": [
       "(None, None)"
      ]
     },
     "execution_count": 48,
     "metadata": {},
     "output_type": "execute_result"
    }
   ],
   "execution_count": 48
  },
  {
   "metadata": {
    "ExecuteTime": {
     "end_time": "2024-05-19T15:18:04.538046Z",
     "start_time": "2024-05-19T15:18:03.564646Z"
    }
   },
   "cell_type": "code",
   "source": [
    "\n",
    "with patch.object(sys, 'argv', ['wannacri', 'createusm', './output/002000.ivf', '--key', '0x7F4551499DF55E68']):\n",
    "    create_usm() # .ivf to .dat 파일 변환됨.\n",
    "\n",
    "# with patch('main.argparse.ArgumentParser.parse_args', return_value=argparse.Namespace(input='./output/002000.ivf', key='0x7F4551499DF55E68')):\n",
    "#     create_usm() # .ivf to .dat 파일 변환됨.\n",
    "\n",
    "\n",
    "# shutil.move(f'./output/002000.dat', f'./output/MovieData/002000.dat')\n"
   ],
   "id": "590545995c89c600",
   "outputs": [
    {
     "name": "stdout",
     "output_type": "stream",
     "text": [
      "Done creating \u0004DAT file.\n"
     ]
    }
   ],
   "execution_count": 55
  },
  {
   "metadata": {
    "ExecuteTime": {
     "end_time": "2024-05-19T15:45:13.322922Z",
     "start_time": "2024-05-19T15:45:13.316739Z"
    }
   },
   "cell_type": "code",
   "source": [
    "def find_path(directory: str, extensions: list):\n",
    "    path = Path(directory)\n",
    "    \n",
    "    for file in path.rglob('*'):\n",
    "        if file.suffix.lower() in extensions:\n",
    "            return file\n",
    "    \n",
    "    return None\n",
    "\n",
    "def create_movie(in_path: str, out_path: str, music_id: str):\n",
    "    \"\"\"\n",
    "    :param in_path: chart folder path\n",
    "    :param out_path: output chart path\n",
    "    :param music_id: \n",
    "    :return: \n",
    "    \"\"\"\n",
    "    \n",
    "    movie_path = find_path(in_path, ['.mp4'])\n",
    "    if movie_path is not None:\n",
    "        os.makedirs(f'{out_path}/MovieData', exist_ok=True)\n",
    "        \n",
    "        temp_ivf_path = f'{out_path}/MovieData/{music_id}.ivf'\n",
    "        \n",
    "        stream = ffmpeg.input(movie_path)\n",
    "        stream = ffmpeg.output(stream, temp_ivf_path, vcodec='vp9').overwrite_output()\n",
    "        ffmpeg.run(stream)\n",
    "        \n",
    "        with patch.object(sys, 'argv', ['wannacri', 'createusm', temp_ivf_path, '--key', '0x7F4551499DF55E68']):\n",
    "            create_usm() # .ivf to .dat 파일 변환됨.\n",
    "            \n",
    "        os.remove(temp_ivf_path)\n",
    "    "
   ],
   "id": "92c8eca1fd88300d",
   "outputs": [],
   "execution_count": 59
  },
  {
   "metadata": {
    "ExecuteTime": {
     "end_time": "2024-05-19T15:46:05.150532Z",
     "start_time": "2024-05-19T15:45:13.766346Z"
    }
   },
   "cell_type": "code",
   "source": [
    "\n",
    "create_movie('../example', './output/', '002000')"
   ],
   "id": "49d6312b656f77d3",
   "outputs": [
    {
     "name": "stdout",
     "output_type": "stream",
     "text": [
      "Done creating \u0004DAT file.\n"
     ]
    }
   ],
   "execution_count": 60
  },
  {
   "metadata": {},
   "cell_type": "code",
   "outputs": [],
   "execution_count": null,
   "source": "",
   "id": "78ce59c10f4cb7d4"
  }
 ],
 "metadata": {
  "kernelspec": {
   "display_name": "Python 3",
   "language": "python",
   "name": "python3"
  },
  "language_info": {
   "codemirror_mode": {
    "name": "ipython",
    "version": 2
   },
   "file_extension": ".py",
   "mimetype": "text/x-python",
   "name": "python",
   "nbconvert_exporter": "python",
   "pygments_lexer": "ipython2",
   "version": "2.7.6"
  }
 },
 "nbformat": 4,
 "nbformat_minor": 5
}
