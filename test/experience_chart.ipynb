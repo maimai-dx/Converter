{
 "cells": [
  {
   "cell_type": "code",
   "id": "initial_id",
   "metadata": {
    "collapsed": true,
    "ExecuteTime": {
     "end_time": "2024-06-02T17:20:06.446702Z",
     "start_time": "2024-06-02T17:20:06.443967Z"
    }
   },
   "source": [
    "\n",
    "from lark import Lark, Tree\n",
    "from transformer import SimaiTransformer\n",
    "import subprocess\n",
    "import sys"
   ],
   "outputs": [],
   "execution_count": 18
  },
  {
   "metadata": {},
   "cell_type": "code",
   "outputs": [],
   "execution_count": null,
   "source": "",
   "id": "99cbc16d18b14b92"
  },
  {
   "metadata": {
    "ExecuteTime": {
     "end_time": "2024-06-03T11:23:24.165983Z",
     "start_time": "2024-06-03T11:23:24.111179Z"
    }
   },
   "cell_type": "code",
   "source": [
    "parser = Lark.open('../simai.lark', parser=\"lalr\")\n",
    "lark_data = parser.parse(open(f'../example/maidata.txt', encoding='UTF8').read())\n",
    "metadata = SimaiTransformer().transform(lark_data)"
   ],
   "id": "932d640eac8f0c59",
   "outputs": [],
   "execution_count": 44
  },
  {
   "metadata": {
    "ExecuteTime": {
     "end_time": "2024-06-03T11:35:49.007388Z",
     "start_time": "2024-06-03T11:35:49.000455Z"
    }
   },
   "cell_type": "code",
   "source": [
    "title = None\n",
    "artist = None\n",
    "bpm = None\n",
    "first = 0\n",
    "charters = {}\n",
    "for node in lark_data.children:\n",
    "    if type(node) is not Tree:\n",
    "        continue\n",
    "    if node.data == 'artist':\n",
    "        artist = str(node.children[0])\n",
    "    if node.data == 'title':\n",
    "        title = str(node.children[0])\n",
    "    if node.data == 'wholebpm': # 10 bpm은 넘길 거임.\n",
    "        bpm = float(str(node.children[0]))\n",
    "    if node.data == 'first':\n",
    "        first = float(str(node.children[0]))\n",
    "    if node.data == 'des':\n",
    "        if type(node.children[0]) is Tree:\n",
    "            if len(node.children[0].children) > 0:\n",
    "                for i in range(6):\n",
    "                    charters[i] = str(node.children[0].children[0])\n",
    "        else:\n",
    "            charters[int(str(node.children[0])) - 2] =  str(node.children[1].children[0])\n",
    "        \n",
    "\n",
    "levels = {}\n",
    "first_bpms = {}\n",
    "for data in metadata:\n",
    "    if data['type'] == 'level':\n",
    "        levels[data['value'][0] - 2] = data['value'][1]\n",
    "    if data['type'] == 'chart':\n",
    "        first_bpms[data['value'][0] - 2] = data['value'][1].split('(')[1].split(')')[0]\n",
    "        \n",
    "\n",
    "\n",
    "print(charters.get(0))\n",
    "print(first)"
   ],
   "id": "ccaed65730de4a17",
   "outputs": [
    {
     "name": "stdout",
     "output_type": "stream",
     "text": [
      "None\n",
      "0.21\n"
     ]
    }
   ],
   "execution_count": 47
  },
  {
   "metadata": {
    "ExecuteTime": {
     "end_time": "2024-06-03T04:34:16.001741Z",
     "start_time": "2024-06-03T04:34:15.998068Z"
    }
   },
   "cell_type": "code",
   "source": [
    "# QuiQ convert\n",
    "initial_bpm = 120\n",
    "first = 0.05\n",
    "\n",
    "# calculate offset\n",
    "one_bar_time = 60 / (initial_bpm / 4)\n",
    "one_grid_time = one_bar_time / 384\n",
    "offset = first / one_grid_time\n",
    "print(one_bar_time)\n",
    "print(one_grid_time)\n",
    "print(offset)\n",
    "print(round(offset))"
   ],
   "id": "a9ba7ec7c83ff762",
   "outputs": [
    {
     "name": "stdout",
     "output_type": "stream",
     "text": [
      "2.0\n",
      "0.005208333333333333\n",
      "9.600000000000001\n",
      "10\n"
     ]
    }
   ],
   "execution_count": 34
  },
  {
   "metadata": {
    "ExecuteTime": {
     "end_time": "2024-06-03T04:16:02.709954Z",
     "start_time": "2024-06-03T04:15:58.583192Z"
    }
   },
   "cell_type": "code",
   "source": [
    "is_festival = True\n",
    "\n",
    "\n",
    "level_dict = {\n",
    "    '1': 1, '2': 2,\n",
    "    '3': 3, '4': 4,\n",
    "    '5': 5, '6': 6,\n",
    "    '7': 7, '7+': 8,\n",
    "    '8': 9, '8+': 10,\n",
    "    '9': 11, '9+': 12,\n",
    "    '10': 13, '10+': 14,\n",
    "    '11': 15, '11+': 16,\n",
    "    '12': 17, '12+': 18,\n",
    "    '13': 19, '13+': 20,\n",
    "    '14': 21, '14+': 22,\n",
    "    '15': 23, '15+': 24\n",
    "}\n",
    "\n",
    "levels = {}\n",
    "for data in metadata:\n",
    "    if data['type'] == 'level':\n",
    "        levels[data['value'][0] - 2] = data['value'][1]\n",
    "\n",
    "notes = []\n",
    "for i in range(6):\n",
    "    if i not in levels:  # 채보 있는놈\n",
    "        print(f'no level {i}')\n",
    "        # notes.append({\n",
    "        #     'file': {'path': f'{music_id}_0{i}.ma2'},\n",
    "        #     'level': '0',\n",
    "        #     'levelDecimal': '0',\n",
    "        #     'notesDesigner': {'id': '0', 'str': None},\n",
    "        #     'notesType': '0',\n",
    "        #     'musicLevelID': '0',\n",
    "        #     'maxNotes': '0',\n",
    "        #     'isEnable': 'false'\n",
    "        # })\n",
    "    else:  # 채보 없는놈\n",
    "        level = levels[i]\n",
    "\n",
    "        leveldecimal = '0'\n",
    "        if '+' in level:\n",
    "            leveldecimal = '7'\n",
    "\n",
    "        # 채보 변환 (result.ma2 생성)\n",
    "        proc = subprocess.run(\n",
    "            f'..\\\\MaichartConverter_Win1071\\\\MaichartConverter.exe CompileSimai -p ../example/maidata.txt -f {'Ma2_104' if is_festival else 'Ma2'} -o ./output -d {i + 2}',\n",
    "            # ['.\\\\MaichartConverter_Win1071\\\\MaichartConverter.exe', 'CompileSimai', '-p', f'./{in_path}/maidata.txt', '-f', 'Ma2_104' if is_festival else 'Ma2', '-o', f'{out_path}/tmp_{music_id}', 'd', f'{i + 2}'],\n",
    "            stdin=subprocess.DEVNULL, stdout=subprocess.PIPE, stderr=subprocess.STDOUT, shell=True\n",
    "        )\n",
    "        print(str(proc.stdout))\n",
    "\n",
    "        # offset 미루는 부분\n",
    "        with open(f'./output/result.ma2', encoding='utf-8') as f:\n",
    "            data = f.read()\n",
    "\n",
    "        data = data.split('\\n\\n')\n",
    "        new_chart = []\n",
    "        for line in data[2].split('\\n'):\n",
    "            line = line.split('\\t')\n",
    "            total = int(line[1]) * 384 + int(line[2])\n",
    "            line[1] = str(total // 384)\n",
    "            line[2] = str(total % 384)\n",
    "            new_chart.append('\\t'.join(line))\n",
    "        data[2] = '\\n'.join(new_chart)\n",
    "        data = '\\n\\n'.join(data)\n",
    "\n",
    "        # with open(f'{out_path}/music/music{music_id}/{music_id}_0{i}.ma2', 'w', encoding='utf-8') as f:\n",
    "        #     f.write(data)\n",
    "        # \n",
    "        # # metadata 작성\n",
    "        # notes.append({\n",
    "        #     'file': {'path': f'{music_id}_0{i}.ma2'},\n",
    "        #     'level': level.replace('+', ''),\n",
    "        #     'levelDecimal': leveldecimal,\n",
    "        #     'notesDesigner': {'id': '0', 'str': 'NZN'},\n",
    "        #     'notesType': '0',\n",
    "        #     'musicLevelID': str(level_dict[level]),\n",
    "        #     'maxNotes': '0',\n",
    "        #     'isEnable': 'true'\n",
    "        # })"
   ],
   "id": "447cb14313c133b4",
   "outputs": [
    {
     "name": "stdout",
     "output_type": "stream",
     "text": [
      "no level 0\n",
      "no level 1\n",
      "no level 2\n",
      "no level 3\n",
      "no level 4\n",
      "b'     _____         .__       .__                   __   _________                                   __                \\n    /     \\\\ _____  |__| ____ |  |__ _____ ________/  |_ \\\\_   ___ \\\\  ____   _______  __ ____________/  |_  ___________ \\n   /  \\\\ /  \\\\\\\\__  \\\\ |  |/ ___\\\\|  |  \\\\\\\\__  \\\\\\\\_  __ \\\\   __\\\\/    \\\\  \\\\/ /  _ \\\\ /    \\\\  \\\\/ // __ \\\\_  __ \\\\   __\\\\/ __ \\\\_  __ \\\\\\n  /    Y    \\\\/ __ \\\\|  \\\\  \\\\___|   Y  \\\\/ __ \\\\|  | \\\\/|  |  \\\\     \\\\___(  <_> )   |  \\\\   /\\\\  ___/|  | \\\\/|  | \\\\  ___/|  | \\\\/\\n  \\\\____|__  (____  /__|\\\\___  >___|  (____  /__|   |__|   \\\\______  /\\\\____/|___|  /\\\\_/  \\\\___  >__|   |__|  \\\\___  >__|   \\n          \\\\/     \\\\/        \\\\/     \\\\/     \\\\/                     \\\\/            \\\\/          \\\\/                 \\\\/       \\na GUtils component for rhythm games\\nRev 1.0.7.1 by Neskol\\nCheck https://github.com/Neskol/MaichartConverter for updates and instructions\\n\\r\\n\\r\\nExecuting CompileSimai (Compile assigned simai chart to assigned format):\\r\\n    Destination : ./output\\r\\n    Difficulty : 7\\r\\n    FileLocation : ../example/maidata.txt\\r\\n    Rotate : null\\r\\n    ShiftTick : null\\r\\n    TargetFormat : Ma2_104\\r\\n\\r\\nSuccessfully compiled at: ./output/result.ma2\\r\\n'\n"
     ]
    }
   ],
   "execution_count": 27
  },
  {
   "metadata": {},
   "cell_type": "code",
   "outputs": [],
   "execution_count": null,
   "source": "",
   "id": "ba6495ada6cb1bbc"
  },
  {
   "metadata": {},
   "cell_type": "code",
   "outputs": [],
   "execution_count": null,
   "source": "",
   "id": "e073c7687643283b"
  },
  {
   "metadata": {
    "ExecuteTime": {
     "end_time": "2024-05-22T14:19:24.941971Z",
     "start_time": "2024-05-22T14:19:24.937530Z"
    }
   },
   "cell_type": "code",
   "source": [
    "param1_list = list(range(20))\n",
    "param2_list = list(range(20, 40))\n",
    "param3_list = list(range(40, 60))\n",
    "param4_list = list(range(60, 80))\n",
    "param5_list = list(range(80, 100))\n",
    "\n",
    "# 파라미터 튜플로 묶기\n",
    "params_list = list(zip(param1_list, param2_list, param3_list, param4_list, param5_list))"
   ],
   "id": "104050e868f55d7f",
   "outputs": [],
   "execution_count": 23
  },
  {
   "metadata": {
    "ExecuteTime": {
     "end_time": "2024-05-22T14:19:28.522042Z",
     "start_time": "2024-05-22T14:19:28.516028Z"
    }
   },
   "cell_type": "code",
   "source": "params_list",
   "id": "f8a8a024efb4c4ed",
   "outputs": [
    {
     "data": {
      "text/plain": [
       "[(0, 20, 40, 60, 80),\n",
       " (1, 21, 41, 61, 81),\n",
       " (2, 22, 42, 62, 82),\n",
       " (3, 23, 43, 63, 83),\n",
       " (4, 24, 44, 64, 84),\n",
       " (5, 25, 45, 65, 85),\n",
       " (6, 26, 46, 66, 86),\n",
       " (7, 27, 47, 67, 87),\n",
       " (8, 28, 48, 68, 88),\n",
       " (9, 29, 49, 69, 89),\n",
       " (10, 30, 50, 70, 90),\n",
       " (11, 31, 51, 71, 91),\n",
       " (12, 32, 52, 72, 92),\n",
       " (13, 33, 53, 73, 93),\n",
       " (14, 34, 54, 74, 94),\n",
       " (15, 35, 55, 75, 95),\n",
       " (16, 36, 56, 76, 96),\n",
       " (17, 37, 57, 77, 97),\n",
       " (18, 38, 58, 78, 98),\n",
       " (19, 39, 59, 79, 99)]"
      ]
     },
     "execution_count": 24,
     "metadata": {},
     "output_type": "execute_result"
    }
   ],
   "execution_count": 24
  },
  {
   "metadata": {},
   "cell_type": "code",
   "outputs": [],
   "execution_count": null,
   "source": "",
   "id": "8b9bc529048371ca"
  }
 ],
 "metadata": {
  "kernelspec": {
   "display_name": "Python 3",
   "language": "python",
   "name": "python3"
  },
  "language_info": {
   "codemirror_mode": {
    "name": "ipython",
    "version": 2
   },
   "file_extension": ".py",
   "mimetype": "text/x-python",
   "name": "python",
   "nbconvert_exporter": "python",
   "pygments_lexer": "ipython2",
   "version": "2.7.6"
  }
 },
 "nbformat": 4,
 "nbformat_minor": 5
}
